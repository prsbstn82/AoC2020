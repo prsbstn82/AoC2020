{
 "cells": [
  {
   "cell_type": "code",
   "execution_count": 1,
   "metadata": {},
   "outputs": [],
   "source": [
    "import pandas as pd\n",
    "import numpy as np"
   ]
  },
  {
   "cell_type": "code",
   "execution_count": 4,
   "metadata": {},
   "outputs": [],
   "source": [
    "df = pd.read_csv(\n",
    "    \"input.csv\",\n",
    "    header=None,\n",
    "    names=[\"col1\"]\n",
    ")"
   ]
  },
  {
   "cell_type": "code",
   "execution_count": 5,
   "metadata": {},
   "outputs": [
    {
     "data": {
      "text/html": [
       "<div>\n",
       "<style scoped>\n",
       "    .dataframe tbody tr th:only-of-type {\n",
       "        vertical-align: middle;\n",
       "    }\n",
       "\n",
       "    .dataframe tbody tr th {\n",
       "        vertical-align: top;\n",
       "    }\n",
       "\n",
       "    .dataframe thead th {\n",
       "        text-align: right;\n",
       "    }\n",
       "</style>\n",
       "<table border=\"1\" class=\"dataframe\">\n",
       "  <thead>\n",
       "    <tr style=\"text-align: right;\">\n",
       "      <th></th>\n",
       "      <th>col1</th>\n",
       "    </tr>\n",
       "  </thead>\n",
       "  <tbody>\n",
       "    <tr>\n",
       "      <th>0</th>\n",
       "      <td>1-4 m: mrfmmbjxr</td>\n",
       "    </tr>\n",
       "    <tr>\n",
       "      <th>1</th>\n",
       "      <td>5-16 b: bbbbhbbbbpbxbbbcb</td>\n",
       "    </tr>\n",
       "    <tr>\n",
       "      <th>2</th>\n",
       "      <td>7-8 x: qxrxmxccxxx</td>\n",
       "    </tr>\n",
       "    <tr>\n",
       "      <th>3</th>\n",
       "      <td>9-11 k: kkkkkkktmkhk</td>\n",
       "    </tr>\n",
       "    <tr>\n",
       "      <th>4</th>\n",
       "      <td>8-12 g: sgwvdxzhkvndv</td>\n",
       "    </tr>\n",
       "    <tr>\n",
       "      <th>...</th>\n",
       "      <td>...</td>\n",
       "    </tr>\n",
       "    <tr>\n",
       "      <th>995</th>\n",
       "      <td>4-9 v: vvvvvvvvvv</td>\n",
       "    </tr>\n",
       "    <tr>\n",
       "      <th>996</th>\n",
       "      <td>5-8 w: cwwwzwwb</td>\n",
       "    </tr>\n",
       "    <tr>\n",
       "      <th>997</th>\n",
       "      <td>7-8 r: rrrrxrrr</td>\n",
       "    </tr>\n",
       "    <tr>\n",
       "      <th>998</th>\n",
       "      <td>8-9 f: sgdcqfhfcfsflb</td>\n",
       "    </tr>\n",
       "    <tr>\n",
       "      <th>999</th>\n",
       "      <td>3-7 g: gdgtnfggq</td>\n",
       "    </tr>\n",
       "  </tbody>\n",
       "</table>\n",
       "<p>1000 rows × 1 columns</p>\n",
       "</div>"
      ],
      "text/plain": [
       "                          col1\n",
       "0             1-4 m: mrfmmbjxr\n",
       "1    5-16 b: bbbbhbbbbpbxbbbcb\n",
       "2           7-8 x: qxrxmxccxxx\n",
       "3         9-11 k: kkkkkkktmkhk\n",
       "4        8-12 g: sgwvdxzhkvndv\n",
       "..                         ...\n",
       "995          4-9 v: vvvvvvvvvv\n",
       "996            5-8 w: cwwwzwwb\n",
       "997            7-8 r: rrrrxrrr\n",
       "998      8-9 f: sgdcqfhfcfsflb\n",
       "999           3-7 g: gdgtnfggq\n",
       "\n",
       "[1000 rows x 1 columns]"
      ]
     },
     "execution_count": 5,
     "metadata": {},
     "output_type": "execute_result"
    }
   ],
   "source": [
    "df"
   ]
  },
  {
   "cell_type": "code",
   "execution_count": 6,
   "metadata": {},
   "outputs": [],
   "source": [
    "def parse_input(input_str):\n",
    "    pwd = input_str.split(\": \")[1]\n",
    "    rule = input_str.split(\": \")[0]\n",
    "    letter = rule.split(\" \")[1]\n",
    "    min_occur = int(rule.split(\" \")[0].split(\"-\")[0])\n",
    "    max_occur = int(rule.split(\" \")[0].split(\"-\")[1])\n",
    "    \n",
    "    res = pd.Series(dtype=None)\n",
    "    res[\"min_occur\"] = min_occur\n",
    "    res[\"max_occur\"] = max_occur\n",
    "    res[\"letter\"] = letter\n",
    "    res[\"pwd\"] = pwd\n",
    "    \n",
    "    return res    "
   ]
  },
  {
   "cell_type": "code",
   "execution_count": 7,
   "metadata": {},
   "outputs": [
    {
     "name": "stderr",
     "output_type": "stream",
     "text": [
      "<ipython-input-6-df0a8ae44bb4>:8: DeprecationWarning: The default dtype for empty Series will be 'object' instead of 'float64' in a future version. Specify a dtype explicitly to silence this warning.\n",
      "  res = pd.Series(dtype=None)\n"
     ]
    }
   ],
   "source": [
    "df[[\"min_occur\", \"max_occur\", \"letter\", \"pwd\"]] = df.apply(lambda row: parse_input(row[\"col1\"]), axis=1)"
   ]
  },
  {
   "cell_type": "code",
   "execution_count": 8,
   "metadata": {},
   "outputs": [
    {
     "data": {
      "text/html": [
       "<div>\n",
       "<style scoped>\n",
       "    .dataframe tbody tr th:only-of-type {\n",
       "        vertical-align: middle;\n",
       "    }\n",
       "\n",
       "    .dataframe tbody tr th {\n",
       "        vertical-align: top;\n",
       "    }\n",
       "\n",
       "    .dataframe thead th {\n",
       "        text-align: right;\n",
       "    }\n",
       "</style>\n",
       "<table border=\"1\" class=\"dataframe\">\n",
       "  <thead>\n",
       "    <tr style=\"text-align: right;\">\n",
       "      <th></th>\n",
       "      <th>col1</th>\n",
       "      <th>min_occur</th>\n",
       "      <th>max_occur</th>\n",
       "      <th>letter</th>\n",
       "      <th>pwd</th>\n",
       "    </tr>\n",
       "  </thead>\n",
       "  <tbody>\n",
       "    <tr>\n",
       "      <th>0</th>\n",
       "      <td>1-4 m: mrfmmbjxr</td>\n",
       "      <td>1</td>\n",
       "      <td>4</td>\n",
       "      <td>m</td>\n",
       "      <td>mrfmmbjxr</td>\n",
       "    </tr>\n",
       "    <tr>\n",
       "      <th>1</th>\n",
       "      <td>5-16 b: bbbbhbbbbpbxbbbcb</td>\n",
       "      <td>5</td>\n",
       "      <td>16</td>\n",
       "      <td>b</td>\n",
       "      <td>bbbbhbbbbpbxbbbcb</td>\n",
       "    </tr>\n",
       "    <tr>\n",
       "      <th>2</th>\n",
       "      <td>7-8 x: qxrxmxccxxx</td>\n",
       "      <td>7</td>\n",
       "      <td>8</td>\n",
       "      <td>x</td>\n",
       "      <td>qxrxmxccxxx</td>\n",
       "    </tr>\n",
       "    <tr>\n",
       "      <th>3</th>\n",
       "      <td>9-11 k: kkkkkkktmkhk</td>\n",
       "      <td>9</td>\n",
       "      <td>11</td>\n",
       "      <td>k</td>\n",
       "      <td>kkkkkkktmkhk</td>\n",
       "    </tr>\n",
       "    <tr>\n",
       "      <th>4</th>\n",
       "      <td>8-12 g: sgwvdxzhkvndv</td>\n",
       "      <td>8</td>\n",
       "      <td>12</td>\n",
       "      <td>g</td>\n",
       "      <td>sgwvdxzhkvndv</td>\n",
       "    </tr>\n",
       "    <tr>\n",
       "      <th>...</th>\n",
       "      <td>...</td>\n",
       "      <td>...</td>\n",
       "      <td>...</td>\n",
       "      <td>...</td>\n",
       "      <td>...</td>\n",
       "    </tr>\n",
       "    <tr>\n",
       "      <th>995</th>\n",
       "      <td>4-9 v: vvvvvvvvvv</td>\n",
       "      <td>4</td>\n",
       "      <td>9</td>\n",
       "      <td>v</td>\n",
       "      <td>vvvvvvvvvv</td>\n",
       "    </tr>\n",
       "    <tr>\n",
       "      <th>996</th>\n",
       "      <td>5-8 w: cwwwzwwb</td>\n",
       "      <td>5</td>\n",
       "      <td>8</td>\n",
       "      <td>w</td>\n",
       "      <td>cwwwzwwb</td>\n",
       "    </tr>\n",
       "    <tr>\n",
       "      <th>997</th>\n",
       "      <td>7-8 r: rrrrxrrr</td>\n",
       "      <td>7</td>\n",
       "      <td>8</td>\n",
       "      <td>r</td>\n",
       "      <td>rrrrxrrr</td>\n",
       "    </tr>\n",
       "    <tr>\n",
       "      <th>998</th>\n",
       "      <td>8-9 f: sgdcqfhfcfsflb</td>\n",
       "      <td>8</td>\n",
       "      <td>9</td>\n",
       "      <td>f</td>\n",
       "      <td>sgdcqfhfcfsflb</td>\n",
       "    </tr>\n",
       "    <tr>\n",
       "      <th>999</th>\n",
       "      <td>3-7 g: gdgtnfggq</td>\n",
       "      <td>3</td>\n",
       "      <td>7</td>\n",
       "      <td>g</td>\n",
       "      <td>gdgtnfggq</td>\n",
       "    </tr>\n",
       "  </tbody>\n",
       "</table>\n",
       "<p>1000 rows × 5 columns</p>\n",
       "</div>"
      ],
      "text/plain": [
       "                          col1  min_occur  max_occur letter                pwd\n",
       "0             1-4 m: mrfmmbjxr          1          4      m          mrfmmbjxr\n",
       "1    5-16 b: bbbbhbbbbpbxbbbcb          5         16      b  bbbbhbbbbpbxbbbcb\n",
       "2           7-8 x: qxrxmxccxxx          7          8      x        qxrxmxccxxx\n",
       "3         9-11 k: kkkkkkktmkhk          9         11      k       kkkkkkktmkhk\n",
       "4        8-12 g: sgwvdxzhkvndv          8         12      g      sgwvdxzhkvndv\n",
       "..                         ...        ...        ...    ...                ...\n",
       "995          4-9 v: vvvvvvvvvv          4          9      v         vvvvvvvvvv\n",
       "996            5-8 w: cwwwzwwb          5          8      w           cwwwzwwb\n",
       "997            7-8 r: rrrrxrrr          7          8      r           rrrrxrrr\n",
       "998      8-9 f: sgdcqfhfcfsflb          8          9      f     sgdcqfhfcfsflb\n",
       "999           3-7 g: gdgtnfggq          3          7      g          gdgtnfggq\n",
       "\n",
       "[1000 rows x 5 columns]"
      ]
     },
     "execution_count": 8,
     "metadata": {},
     "output_type": "execute_result"
    }
   ],
   "source": [
    "df"
   ]
  },
  {
   "cell_type": "code",
   "execution_count": 9,
   "metadata": {},
   "outputs": [],
   "source": [
    "def is_correct(min_occur, max_occur, letter, pwd):\n",
    "    res = pd.Series(dtype=None)\n",
    "    res[\"is_correct\"] = False\n",
    "    if pwd.count(letter) <= max_occur and pwd.count(letter) >= min_occur:\n",
    "        res[\"is_correct\"] = True\n",
    "        return res\n",
    "    else:\n",
    "        return res"
   ]
  },
  {
   "cell_type": "code",
   "execution_count": 10,
   "metadata": {},
   "outputs": [
    {
     "name": "stderr",
     "output_type": "stream",
     "text": [
      "<ipython-input-9-29d1ba3c87dc>:2: DeprecationWarning: The default dtype for empty Series will be 'object' instead of 'float64' in a future version. Specify a dtype explicitly to silence this warning.\n",
      "  res = pd.Series(dtype=None)\n"
     ]
    }
   ],
   "source": [
    "df[\"is_correct\"] = df.apply(\n",
    "    lambda row: is_correct(row[\"min_occur\"], row[\"max_occur\"], row[\"letter\"], row[\"pwd\"]),\n",
    "    axis=1\n",
    ")"
   ]
  },
  {
   "cell_type": "code",
   "execution_count": 11,
   "metadata": {},
   "outputs": [
    {
     "data": {
      "text/html": [
       "<div>\n",
       "<style scoped>\n",
       "    .dataframe tbody tr th:only-of-type {\n",
       "        vertical-align: middle;\n",
       "    }\n",
       "\n",
       "    .dataframe tbody tr th {\n",
       "        vertical-align: top;\n",
       "    }\n",
       "\n",
       "    .dataframe thead th {\n",
       "        text-align: right;\n",
       "    }\n",
       "</style>\n",
       "<table border=\"1\" class=\"dataframe\">\n",
       "  <thead>\n",
       "    <tr style=\"text-align: right;\">\n",
       "      <th></th>\n",
       "      <th>col1</th>\n",
       "      <th>min_occur</th>\n",
       "      <th>max_occur</th>\n",
       "      <th>letter</th>\n",
       "      <th>pwd</th>\n",
       "      <th>is_correct</th>\n",
       "    </tr>\n",
       "  </thead>\n",
       "  <tbody>\n",
       "    <tr>\n",
       "      <th>0</th>\n",
       "      <td>1-4 m: mrfmmbjxr</td>\n",
       "      <td>1</td>\n",
       "      <td>4</td>\n",
       "      <td>m</td>\n",
       "      <td>mrfmmbjxr</td>\n",
       "      <td>True</td>\n",
       "    </tr>\n",
       "    <tr>\n",
       "      <th>1</th>\n",
       "      <td>5-16 b: bbbbhbbbbpbxbbbcb</td>\n",
       "      <td>5</td>\n",
       "      <td>16</td>\n",
       "      <td>b</td>\n",
       "      <td>bbbbhbbbbpbxbbbcb</td>\n",
       "      <td>True</td>\n",
       "    </tr>\n",
       "    <tr>\n",
       "      <th>2</th>\n",
       "      <td>7-8 x: qxrxmxccxxx</td>\n",
       "      <td>7</td>\n",
       "      <td>8</td>\n",
       "      <td>x</td>\n",
       "      <td>qxrxmxccxxx</td>\n",
       "      <td>False</td>\n",
       "    </tr>\n",
       "    <tr>\n",
       "      <th>3</th>\n",
       "      <td>9-11 k: kkkkkkktmkhk</td>\n",
       "      <td>9</td>\n",
       "      <td>11</td>\n",
       "      <td>k</td>\n",
       "      <td>kkkkkkktmkhk</td>\n",
       "      <td>True</td>\n",
       "    </tr>\n",
       "    <tr>\n",
       "      <th>4</th>\n",
       "      <td>8-12 g: sgwvdxzhkvndv</td>\n",
       "      <td>8</td>\n",
       "      <td>12</td>\n",
       "      <td>g</td>\n",
       "      <td>sgwvdxzhkvndv</td>\n",
       "      <td>False</td>\n",
       "    </tr>\n",
       "    <tr>\n",
       "      <th>...</th>\n",
       "      <td>...</td>\n",
       "      <td>...</td>\n",
       "      <td>...</td>\n",
       "      <td>...</td>\n",
       "      <td>...</td>\n",
       "      <td>...</td>\n",
       "    </tr>\n",
       "    <tr>\n",
       "      <th>995</th>\n",
       "      <td>4-9 v: vvvvvvvvvv</td>\n",
       "      <td>4</td>\n",
       "      <td>9</td>\n",
       "      <td>v</td>\n",
       "      <td>vvvvvvvvvv</td>\n",
       "      <td>False</td>\n",
       "    </tr>\n",
       "    <tr>\n",
       "      <th>996</th>\n",
       "      <td>5-8 w: cwwwzwwb</td>\n",
       "      <td>5</td>\n",
       "      <td>8</td>\n",
       "      <td>w</td>\n",
       "      <td>cwwwzwwb</td>\n",
       "      <td>True</td>\n",
       "    </tr>\n",
       "    <tr>\n",
       "      <th>997</th>\n",
       "      <td>7-8 r: rrrrxrrr</td>\n",
       "      <td>7</td>\n",
       "      <td>8</td>\n",
       "      <td>r</td>\n",
       "      <td>rrrrxrrr</td>\n",
       "      <td>True</td>\n",
       "    </tr>\n",
       "    <tr>\n",
       "      <th>998</th>\n",
       "      <td>8-9 f: sgdcqfhfcfsflb</td>\n",
       "      <td>8</td>\n",
       "      <td>9</td>\n",
       "      <td>f</td>\n",
       "      <td>sgdcqfhfcfsflb</td>\n",
       "      <td>False</td>\n",
       "    </tr>\n",
       "    <tr>\n",
       "      <th>999</th>\n",
       "      <td>3-7 g: gdgtnfggq</td>\n",
       "      <td>3</td>\n",
       "      <td>7</td>\n",
       "      <td>g</td>\n",
       "      <td>gdgtnfggq</td>\n",
       "      <td>True</td>\n",
       "    </tr>\n",
       "  </tbody>\n",
       "</table>\n",
       "<p>1000 rows × 6 columns</p>\n",
       "</div>"
      ],
      "text/plain": [
       "                          col1  min_occur  max_occur letter  \\\n",
       "0             1-4 m: mrfmmbjxr          1          4      m   \n",
       "1    5-16 b: bbbbhbbbbpbxbbbcb          5         16      b   \n",
       "2           7-8 x: qxrxmxccxxx          7          8      x   \n",
       "3         9-11 k: kkkkkkktmkhk          9         11      k   \n",
       "4        8-12 g: sgwvdxzhkvndv          8         12      g   \n",
       "..                         ...        ...        ...    ...   \n",
       "995          4-9 v: vvvvvvvvvv          4          9      v   \n",
       "996            5-8 w: cwwwzwwb          5          8      w   \n",
       "997            7-8 r: rrrrxrrr          7          8      r   \n",
       "998      8-9 f: sgdcqfhfcfsflb          8          9      f   \n",
       "999           3-7 g: gdgtnfggq          3          7      g   \n",
       "\n",
       "                   pwd  is_correct  \n",
       "0            mrfmmbjxr        True  \n",
       "1    bbbbhbbbbpbxbbbcb        True  \n",
       "2          qxrxmxccxxx       False  \n",
       "3         kkkkkkktmkhk        True  \n",
       "4        sgwvdxzhkvndv       False  \n",
       "..                 ...         ...  \n",
       "995         vvvvvvvvvv       False  \n",
       "996           cwwwzwwb        True  \n",
       "997           rrrrxrrr        True  \n",
       "998     sgdcqfhfcfsflb       False  \n",
       "999          gdgtnfggq        True  \n",
       "\n",
       "[1000 rows x 6 columns]"
      ]
     },
     "execution_count": 11,
     "metadata": {},
     "output_type": "execute_result"
    }
   ],
   "source": [
    "df"
   ]
  },
  {
   "cell_type": "code",
   "execution_count": 12,
   "metadata": {},
   "outputs": [
    {
     "data": {
      "text/plain": [
       "607"
      ]
     },
     "execution_count": 12,
     "metadata": {},
     "output_type": "execute_result"
    }
   ],
   "source": [
    "len(df.loc[df.is_correct].index)"
   ]
  },
  {
   "cell_type": "code",
   "execution_count": 16,
   "metadata": {},
   "outputs": [],
   "source": [
    "def is_correct2(min_occur, max_occur, letter, pwd):\n",
    "    res = pd.Series(dtype=None)\n",
    "    res[\"is_correct\"] = False\n",
    "    if ((pwd[min_occur - 1] == letter) or (pwd[max_occur - 1] == letter)) and (pwd[min_occur - 1] != pwd[max_occur - 1]):\n",
    "        res[\"is_correct\"] = True\n",
    "        return res\n",
    "    else:\n",
    "        return res"
   ]
  },
  {
   "cell_type": "code",
   "execution_count": 17,
   "metadata": {},
   "outputs": [
    {
     "name": "stderr",
     "output_type": "stream",
     "text": [
      "<ipython-input-16-1c93de7d4ddc>:2: DeprecationWarning: The default dtype for empty Series will be 'object' instead of 'float64' in a future version. Specify a dtype explicitly to silence this warning.\n",
      "  res = pd.Series(dtype=None)\n"
     ]
    }
   ],
   "source": [
    "df[\"is_correct2\"] = df.apply(\n",
    "    lambda row: is_correct2(row[\"min_occur\"], row[\"max_occur\"], row[\"letter\"], row[\"pwd\"]),\n",
    "    axis=1\n",
    ")"
   ]
  },
  {
   "cell_type": "code",
   "execution_count": 18,
   "metadata": {},
   "outputs": [
    {
     "data": {
      "text/plain": [
       "321"
      ]
     },
     "execution_count": 18,
     "metadata": {},
     "output_type": "execute_result"
    }
   ],
   "source": [
    "len(df.loc[df.is_correct2].index)"
   ]
  },
  {
   "cell_type": "code",
   "execution_count": null,
   "metadata": {},
   "outputs": [],
   "source": []
  }
 ],
 "metadata": {
  "kernelspec": {
   "display_name": "Python 3",
   "language": "python",
   "name": "python3"
  },
  "language_info": {
   "codemirror_mode": {
    "name": "ipython",
    "version": 3
   },
   "file_extension": ".py",
   "mimetype": "text/x-python",
   "name": "python",
   "nbconvert_exporter": "python",
   "pygments_lexer": "ipython3",
   "version": "3.8.3"
  },
  "toc": {
   "base_numbering": 1,
   "nav_menu": {},
   "number_sections": true,
   "sideBar": true,
   "skip_h1_title": false,
   "title_cell": "Table of Contents",
   "title_sidebar": "Contents",
   "toc_cell": false,
   "toc_position": {},
   "toc_section_display": true,
   "toc_window_display": false
  },
  "varInspector": {
   "cols": {
    "lenName": 16,
    "lenType": 16,
    "lenVar": 40
   },
   "kernels_config": {
    "python": {
     "delete_cmd_postfix": "",
     "delete_cmd_prefix": "del ",
     "library": "var_list.py",
     "varRefreshCmd": "print(var_dic_list())"
    },
    "r": {
     "delete_cmd_postfix": ") ",
     "delete_cmd_prefix": "rm(",
     "library": "var_list.r",
     "varRefreshCmd": "cat(var_dic_list()) "
    }
   },
   "types_to_exclude": [
    "module",
    "function",
    "builtin_function_or_method",
    "instance",
    "_Feature"
   ],
   "window_display": false
  }
 },
 "nbformat": 4,
 "nbformat_minor": 4
}
