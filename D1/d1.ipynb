{
 "cells": [
  {
   "cell_type": "code",
   "execution_count": 1,
   "metadata": {},
   "outputs": [],
   "source": [
    "import pandas as pd\n",
    "import numpy as np"
   ]
  },
  {
   "cell_type": "code",
   "execution_count": 6,
   "metadata": {},
   "outputs": [],
   "source": [
    "data = []\n",
    "with open(\"input.csv\", \"r\") as f:\n",
    "    for row in f:\n",
    "        data.append(int(row))"
   ]
  },
  {
   "cell_type": "code",
   "execution_count": 7,
   "metadata": {},
   "outputs": [
    {
     "data": {
      "text/plain": [
       "[1650,\n",
       " 1174,\n",
       " 1156,\n",
       " 1874,\n",
       " 1958,\n",
       " 1918,\n",
       " 1980,\n",
       " 1588,\n",
       " 1863,\n",
       " 1656,\n",
       " 1843,\n",
       " 1738,\n",
       " 2001,\n",
       " 1883,\n",
       " 1941,\n",
       " 1602,\n",
       " 1881,\n",
       " 1927,\n",
       " 1284,\n",
       " 1474,\n",
       " 1942,\n",
       " 1992,\n",
       " 1925,\n",
       " 1990,\n",
       " 1831,\n",
       " 1907,\n",
       " 1914,\n",
       " 1815,\n",
       " 1921,\n",
       " 1589,\n",
       " 1224,\n",
       " 1148,\n",
       " 1223,\n",
       " 935,\n",
       " 1726,\n",
       " 1828,\n",
       " 1838,\n",
       " 1611,\n",
       " 1960,\n",
       " 1668,\n",
       " 1744,\n",
       " 1566,\n",
       " 1902,\n",
       " 1203,\n",
       " 1975,\n",
       " 1225,\n",
       " 2000,\n",
       " 1678,\n",
       " 1950,\n",
       " 572,\n",
       " 1812,\n",
       " 1568,\n",
       " 1484,\n",
       " 1767,\n",
       " 1509,\n",
       " 1658,\n",
       " 1127,\n",
       " 1870,\n",
       " 1098,\n",
       " 1294,\n",
       " 1310,\n",
       " 1483,\n",
       " 1865,\n",
       " 1967,\n",
       " 1856,\n",
       " 1963,\n",
       " 1929,\n",
       " 1119,\n",
       " 132,\n",
       " 1969,\n",
       " 1094,\n",
       " 1523,\n",
       " 1701,\n",
       " 1896,\n",
       " 1631,\n",
       " 1956,\n",
       " 1910,\n",
       " 1672,\n",
       " 1232,\n",
       " 1285,\n",
       " 1761,\n",
       " 1649,\n",
       " 1931,\n",
       " 1959,\n",
       " 1191,\n",
       " 1846,\n",
       " 1908,\n",
       " 1976,\n",
       " 1500,\n",
       " 1940,\n",
       " 1924,\n",
       " 1521,\n",
       " 1989,\n",
       " 1635,\n",
       " 1102,\n",
       " 1114,\n",
       " 1948,\n",
       " 2007,\n",
       " 1964,\n",
       " 1926,\n",
       " 1590,\n",
       " 1900,\n",
       " 1690,\n",
       " 1880,\n",
       " 1596,\n",
       " 1395,\n",
       " 1373,\n",
       " 1937,\n",
       " 1833,\n",
       " 1845,\n",
       " 1949,\n",
       " 1128,\n",
       " 1218,\n",
       " 1928,\n",
       " 1912,\n",
       " 1893,\n",
       " 1869,\n",
       " 960,\n",
       " 1813,\n",
       " 1645,\n",
       " 1490,\n",
       " 1318,\n",
       " 1934,\n",
       " 1259,\n",
       " 2005,\n",
       " 1522,\n",
       " 1270,\n",
       " 1089,\n",
       " 1674,\n",
       " 1997,\n",
       " 1112,\n",
       " 1954,\n",
       " 1769,\n",
       " 1829,\n",
       " 1814,\n",
       " 1922,\n",
       " 1904,\n",
       " 1894,\n",
       " 1595,\n",
       " 1103,\n",
       " 237,\n",
       " 1943,\n",
       " 1364,\n",
       " 1906,\n",
       " 1971,\n",
       " 1998,\n",
       " 1461,\n",
       " 1606,\n",
       " 1911,\n",
       " 1545,\n",
       " 1952,\n",
       " 1917,\n",
       " 1582,\n",
       " 1994,\n",
       " 1946,\n",
       " 1935,\n",
       " 1844,\n",
       " 1938,\n",
       " 1633,\n",
       " 2004,\n",
       " 1132,\n",
       " 1530,\n",
       " 1915,\n",
       " 1982,\n",
       " 1871,\n",
       " 1852,\n",
       " 1613,\n",
       " 1476,\n",
       " 1216,\n",
       " 1834,\n",
       " 1939,\n",
       " 409,\n",
       " 1895,\n",
       " 1120,\n",
       " 1194,\n",
       " 1135,\n",
       " 1899,\n",
       " 1901,\n",
       " 1439,\n",
       " 485,\n",
       " 1855,\n",
       " 1136,\n",
       " 200,\n",
       " 1887,\n",
       " 250,\n",
       " 1930,\n",
       " 1506,\n",
       " 1945,\n",
       " 1988,\n",
       " 1170,\n",
       " 1575,\n",
       " 1872,\n",
       " 1261,\n",
       " 1137,\n",
       " 1978,\n",
       " 1537,\n",
       " 1897,\n",
       " 1837,\n",
       " 1753,\n",
       " 1913]"
      ]
     },
     "execution_count": 7,
     "metadata": {},
     "output_type": "execute_result"
    }
   ],
   "source": [
    "data"
   ]
  },
  {
   "cell_type": "code",
   "execution_count": 8,
   "metadata": {},
   "outputs": [],
   "source": [
    "def get_numbers(liste):\n",
    "    for n in liste:\n",
    "        for m in liste:\n",
    "            if (n != m) and (n+m == 2020):\n",
    "                return [n, m]\n",
    "            else:\n",
    "                pass"
   ]
  },
  {
   "cell_type": "code",
   "execution_count": 9,
   "metadata": {},
   "outputs": [],
   "source": [
    "res = get_numbers(data)"
   ]
  },
  {
   "cell_type": "code",
   "execution_count": 10,
   "metadata": {},
   "outputs": [
    {
     "data": {
      "text/plain": [
       "[1611, 409]"
      ]
     },
     "execution_count": 10,
     "metadata": {},
     "output_type": "execute_result"
    }
   ],
   "source": [
    "res"
   ]
  },
  {
   "cell_type": "code",
   "execution_count": 11,
   "metadata": {},
   "outputs": [
    {
     "data": {
      "text/plain": [
       "658899"
      ]
     },
     "execution_count": 11,
     "metadata": {},
     "output_type": "execute_result"
    }
   ],
   "source": [
    "1611*409"
   ]
  },
  {
   "cell_type": "code",
   "execution_count": 18,
   "metadata": {},
   "outputs": [],
   "source": [
    "def get_numbers2(liste):\n",
    "    for n in liste:\n",
    "        for m in liste:\n",
    "            for o in liste:\n",
    "                if (n != m) and (m != o) and (n != o) and (n+m+o == 2020):\n",
    "                    return [n, m, o]\n",
    "                else:\n",
    "                    pass"
   ]
  },
  {
   "cell_type": "code",
   "execution_count": 19,
   "metadata": {},
   "outputs": [],
   "source": [
    "res2 = get_numbers2(data)"
   ]
  },
  {
   "cell_type": "code",
   "execution_count": 20,
   "metadata": {},
   "outputs": [
    {
     "data": {
      "text/plain": [
       "[1285, 485, 250]"
      ]
     },
     "execution_count": 20,
     "metadata": {},
     "output_type": "execute_result"
    }
   ],
   "source": [
    "res2"
   ]
  },
  {
   "cell_type": "code",
   "execution_count": 21,
   "metadata": {},
   "outputs": [
    {
     "data": {
      "text/plain": [
       "155806250"
      ]
     },
     "execution_count": 21,
     "metadata": {},
     "output_type": "execute_result"
    }
   ],
   "source": [
    "1285*485*250"
   ]
  },
  {
   "cell_type": "code",
   "execution_count": null,
   "metadata": {},
   "outputs": [],
   "source": []
  }
 ],
 "metadata": {
  "kernelspec": {
   "display_name": "Python 3",
   "language": "python",
   "name": "python3"
  },
  "language_info": {
   "codemirror_mode": {
    "name": "ipython",
    "version": 3
   },
   "file_extension": ".py",
   "mimetype": "text/x-python",
   "name": "python",
   "nbconvert_exporter": "python",
   "pygments_lexer": "ipython3",
   "version": "3.8.3"
  },
  "toc": {
   "base_numbering": 1,
   "nav_menu": {},
   "number_sections": true,
   "sideBar": true,
   "skip_h1_title": false,
   "title_cell": "Table of Contents",
   "title_sidebar": "Contents",
   "toc_cell": false,
   "toc_position": {},
   "toc_section_display": true,
   "toc_window_display": false
  },
  "varInspector": {
   "cols": {
    "lenName": 16,
    "lenType": 16,
    "lenVar": 40
   },
   "kernels_config": {
    "python": {
     "delete_cmd_postfix": "",
     "delete_cmd_prefix": "del ",
     "library": "var_list.py",
     "varRefreshCmd": "print(var_dic_list())"
    },
    "r": {
     "delete_cmd_postfix": ") ",
     "delete_cmd_prefix": "rm(",
     "library": "var_list.r",
     "varRefreshCmd": "cat(var_dic_list()) "
    }
   },
   "types_to_exclude": [
    "module",
    "function",
    "builtin_function_or_method",
    "instance",
    "_Feature"
   ],
   "window_display": false
  }
 },
 "nbformat": 4,
 "nbformat_minor": 4
}
