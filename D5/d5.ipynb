{
 "cells": [
  {
   "cell_type": "code",
   "execution_count": 85,
   "metadata": {},
   "outputs": [],
   "source": [
    "import pandas as pd"
   ]
  },
  {
   "cell_type": "code",
   "execution_count": 86,
   "metadata": {},
   "outputs": [],
   "source": [
    "df = pd.read_csv(\"input.csv\", header=None, names=[\"col1\"])\n",
    "nb_rows=128\n",
    "nb_col=8"
   ]
  },
  {
   "cell_type": "code",
   "execution_count": 87,
   "metadata": {},
   "outputs": [],
   "source": [
    "def get_row_col(string):\n",
    "    res = pd.Series(dtype=None)\n",
    "    row_string = string[:7]\n",
    "    col_string = string[7:]\n",
    "    #print(f\"row: {row_string}, col: {col_string}\")\n",
    "    # Get row number\n",
    "    nb_row = [0, 127]\n",
    "    for l in row_string:\n",
    "        diff = nb_row[1]-nb_row[0]+1\n",
    "        if l == \"B\":\n",
    "            nb_row[0] = nb_row[0] + (diff // 2)\n",
    "        elif l == \"F\":\n",
    "            nb_row[1] = nb_row[1] - (diff // 2)\n",
    "        else:\n",
    "            print(l, string)\n",
    "            pass\n",
    "    if row_string[-1] == \"B\":\n",
    "        row=max(nb_row)\n",
    "    elif row_string[-1] == \"F\":\n",
    "        row=min(nb_row)\n",
    "    else:\n",
    "        pass\n",
    "    \n",
    "    # get col number:\n",
    "    nb_col = [0, 7]\n",
    "    for c in col_string:\n",
    "        diff = nb_col[1]-nb_col[0]+1\n",
    "        if c == \"R\":\n",
    "            nb_col[0] = nb_col[0] + (diff // 2)\n",
    "        elif c == \"L\":\n",
    "            nb_col[1] = nb_col[1] - (diff // 2)\n",
    "        else:\n",
    "            print(string)\n",
    "            pass\n",
    "    if col_string[-1] == \"R\":\n",
    "        col=max(nb_col)\n",
    "    elif col_string[-1] == \"L\":\n",
    "        col=min(nb_col)\n",
    "    else:\n",
    "        pass\n",
    "    \n",
    "    res[\"row\"] = row\n",
    "    res[\"col\"] = col\n",
    "    res[\"seat_id\"] = row*8 + col\n",
    "    \n",
    "#     print(f\"{string}: row {row}, column {col}, seat_id {row*8 + col}\")\n",
    "#     print(f\"{row_string} --> {nb_row}\")\n",
    "#     print(f\"{col_string} --> {nb_col}\")\n",
    "    return res"
   ]
  },
  {
   "cell_type": "code",
   "execution_count": 88,
   "metadata": {},
   "outputs": [
    {
     "name": "stderr",
     "output_type": "stream",
     "text": [
      "<ipython-input-87-375f96157b86>:2: DeprecationWarning: The default dtype for empty Series will be 'object' instead of 'float64' in a future version. Specify a dtype explicitly to silence this warning.\n",
      "  res = pd.Series(dtype=None)\n"
     ]
    },
    {
     "data": {
      "text/plain": [
       "row         70\n",
       "col          7\n",
       "seat_id    567\n",
       "dtype: int64"
      ]
     },
     "execution_count": 88,
     "metadata": {},
     "output_type": "execute_result"
    }
   ],
   "source": [
    "get_row_col(\"BFFFBBFRRR\")"
   ]
  },
  {
   "cell_type": "code",
   "execution_count": 89,
   "metadata": {},
   "outputs": [
    {
     "name": "stderr",
     "output_type": "stream",
     "text": [
      "<ipython-input-87-375f96157b86>:2: DeprecationWarning: The default dtype for empty Series will be 'object' instead of 'float64' in a future version. Specify a dtype explicitly to silence this warning.\n",
      "  res = pd.Series(dtype=None)\n"
     ]
    },
    {
     "data": {
      "text/plain": [
       "row         14\n",
       "col          7\n",
       "seat_id    119\n",
       "dtype: int64"
      ]
     },
     "execution_count": 89,
     "metadata": {},
     "output_type": "execute_result"
    }
   ],
   "source": [
    "get_row_col(\"FFFBBBFRRR\")"
   ]
  },
  {
   "cell_type": "code",
   "execution_count": 90,
   "metadata": {},
   "outputs": [
    {
     "name": "stderr",
     "output_type": "stream",
     "text": [
      "<ipython-input-87-375f96157b86>:2: DeprecationWarning: The default dtype for empty Series will be 'object' instead of 'float64' in a future version. Specify a dtype explicitly to silence this warning.\n",
      "  res = pd.Series(dtype=None)\n"
     ]
    },
    {
     "data": {
      "text/plain": [
       "row        102\n",
       "col          4\n",
       "seat_id    820\n",
       "dtype: int64"
      ]
     },
     "execution_count": 90,
     "metadata": {},
     "output_type": "execute_result"
    }
   ],
   "source": [
    "get_row_col(\"BBFFBBFRLL\")"
   ]
  },
  {
   "cell_type": "code",
   "execution_count": 91,
   "metadata": {},
   "outputs": [
    {
     "name": "stderr",
     "output_type": "stream",
     "text": [
      "<ipython-input-87-375f96157b86>:2: DeprecationWarning: The default dtype for empty Series will be 'object' instead of 'float64' in a future version. Specify a dtype explicitly to silence this warning.\n",
      "  res = pd.Series(dtype=None)\n"
     ]
    }
   ],
   "source": [
    "df[[\"row\", \"col\", \"seat_id\"]] = df.apply(lambda row: get_row_col(string=row[\"col1\"]), axis=1)"
   ]
  },
  {
   "cell_type": "code",
   "execution_count": 92,
   "metadata": {},
   "outputs": [
    {
     "data": {
      "text/html": [
       "<div>\n",
       "<style scoped>\n",
       "    .dataframe tbody tr th:only-of-type {\n",
       "        vertical-align: middle;\n",
       "    }\n",
       "\n",
       "    .dataframe tbody tr th {\n",
       "        vertical-align: top;\n",
       "    }\n",
       "\n",
       "    .dataframe thead th {\n",
       "        text-align: right;\n",
       "    }\n",
       "</style>\n",
       "<table border=\"1\" class=\"dataframe\">\n",
       "  <thead>\n",
       "    <tr style=\"text-align: right;\">\n",
       "      <th></th>\n",
       "      <th>col1</th>\n",
       "      <th>row</th>\n",
       "      <th>col</th>\n",
       "      <th>seat_id</th>\n",
       "    </tr>\n",
       "  </thead>\n",
       "  <tbody>\n",
       "    <tr>\n",
       "      <th>0</th>\n",
       "      <td>BFFFBBFRLR</td>\n",
       "      <td>70</td>\n",
       "      <td>5</td>\n",
       "      <td>565</td>\n",
       "    </tr>\n",
       "    <tr>\n",
       "      <th>1</th>\n",
       "      <td>FBFFFBBLRL</td>\n",
       "      <td>35</td>\n",
       "      <td>2</td>\n",
       "      <td>282</td>\n",
       "    </tr>\n",
       "    <tr>\n",
       "      <th>2</th>\n",
       "      <td>BFFFFFBRRR</td>\n",
       "      <td>65</td>\n",
       "      <td>7</td>\n",
       "      <td>527</td>\n",
       "    </tr>\n",
       "    <tr>\n",
       "      <th>3</th>\n",
       "      <td>FBBBFFFLRR</td>\n",
       "      <td>56</td>\n",
       "      <td>3</td>\n",
       "      <td>451</td>\n",
       "    </tr>\n",
       "    <tr>\n",
       "      <th>4</th>\n",
       "      <td>FFBFBFBRLL</td>\n",
       "      <td>21</td>\n",
       "      <td>4</td>\n",
       "      <td>172</td>\n",
       "    </tr>\n",
       "    <tr>\n",
       "      <th>...</th>\n",
       "      <td>...</td>\n",
       "      <td>...</td>\n",
       "      <td>...</td>\n",
       "      <td>...</td>\n",
       "    </tr>\n",
       "    <tr>\n",
       "      <th>784</th>\n",
       "      <td>BFBBBFBRRL</td>\n",
       "      <td>93</td>\n",
       "      <td>6</td>\n",
       "      <td>750</td>\n",
       "    </tr>\n",
       "    <tr>\n",
       "      <th>785</th>\n",
       "      <td>FFFBBBBLLL</td>\n",
       "      <td>15</td>\n",
       "      <td>0</td>\n",
       "      <td>120</td>\n",
       "    </tr>\n",
       "    <tr>\n",
       "      <th>786</th>\n",
       "      <td>BBFBFBBRRL</td>\n",
       "      <td>107</td>\n",
       "      <td>6</td>\n",
       "      <td>862</td>\n",
       "    </tr>\n",
       "    <tr>\n",
       "      <th>787</th>\n",
       "      <td>FFBFFBBLRR</td>\n",
       "      <td>19</td>\n",
       "      <td>3</td>\n",
       "      <td>155</td>\n",
       "    </tr>\n",
       "    <tr>\n",
       "      <th>788</th>\n",
       "      <td>FBBFFBFLLR</td>\n",
       "      <td>50</td>\n",
       "      <td>1</td>\n",
       "      <td>401</td>\n",
       "    </tr>\n",
       "  </tbody>\n",
       "</table>\n",
       "<p>789 rows × 4 columns</p>\n",
       "</div>"
      ],
      "text/plain": [
       "           col1  row  col  seat_id\n",
       "0    BFFFBBFRLR   70    5      565\n",
       "1    FBFFFBBLRL   35    2      282\n",
       "2    BFFFFFBRRR   65    7      527\n",
       "3    FBBBFFFLRR   56    3      451\n",
       "4    FFBFBFBRLL   21    4      172\n",
       "..          ...  ...  ...      ...\n",
       "784  BFBBBFBRRL   93    6      750\n",
       "785  FFFBBBBLLL   15    0      120\n",
       "786  BBFBFBBRRL  107    6      862\n",
       "787  FFBFFBBLRR   19    3      155\n",
       "788  FBBFFBFLLR   50    1      401\n",
       "\n",
       "[789 rows x 4 columns]"
      ]
     },
     "execution_count": 92,
     "metadata": {},
     "output_type": "execute_result"
    }
   ],
   "source": [
    "df"
   ]
  },
  {
   "cell_type": "code",
   "execution_count": 93,
   "metadata": {},
   "outputs": [
    {
     "data": {
      "text/plain": [
       "864"
      ]
     },
     "execution_count": 93,
     "metadata": {},
     "output_type": "execute_result"
    }
   ],
   "source": [
    "df.seat_id.max()"
   ]
  },
  {
   "cell_type": "code",
   "execution_count": 99,
   "metadata": {},
   "outputs": [],
   "source": [
    "liste_id = []\n",
    "for i in range(1, 128):\n",
    "    for j in range(8):\n",
    "        liste_id.append(i*8 + j)"
   ]
  },
  {
   "cell_type": "code",
   "execution_count": 100,
   "metadata": {},
   "outputs": [
    {
     "name": "stdout",
     "output_type": "stream",
     "text": [
      "8\n",
      "9\n",
      "10\n",
      "11\n",
      "12\n",
      "13\n",
      "14\n",
      "15\n",
      "16\n",
      "17\n",
      "18\n",
      "19\n",
      "20\n",
      "21\n",
      "22\n",
      "23\n",
      "24\n",
      "25\n",
      "26\n",
      "27\n",
      "28\n",
      "29\n",
      "30\n",
      "31\n",
      "32\n",
      "33\n",
      "34\n",
      "35\n",
      "36\n",
      "37\n",
      "38\n",
      "39\n",
      "40\n",
      "41\n",
      "42\n",
      "43\n",
      "44\n",
      "45\n",
      "46\n",
      "47\n",
      "48\n",
      "49\n",
      "50\n",
      "51\n",
      "52\n",
      "53\n",
      "54\n",
      "55\n",
      "56\n",
      "57\n",
      "58\n",
      "59\n",
      "60\n",
      "61\n",
      "62\n",
      "63\n",
      "64\n",
      "65\n",
      "66\n",
      "67\n",
      "68\n",
      "69\n",
      "70\n",
      "71\n",
      "72\n",
      "73\n",
      "74\n",
      "739\n",
      "865\n",
      "866\n",
      "867\n",
      "868\n",
      "869\n",
      "870\n",
      "871\n",
      "872\n",
      "873\n",
      "874\n",
      "875\n",
      "876\n",
      "877\n",
      "878\n",
      "879\n",
      "880\n",
      "881\n",
      "882\n",
      "883\n",
      "884\n",
      "885\n",
      "886\n",
      "887\n",
      "888\n",
      "889\n",
      "890\n",
      "891\n",
      "892\n",
      "893\n",
      "894\n",
      "895\n",
      "896\n",
      "897\n",
      "898\n",
      "899\n",
      "900\n",
      "901\n",
      "902\n",
      "903\n",
      "904\n",
      "905\n",
      "906\n",
      "907\n",
      "908\n",
      "909\n",
      "910\n",
      "911\n",
      "912\n",
      "913\n",
      "914\n",
      "915\n",
      "916\n",
      "917\n",
      "918\n",
      "919\n",
      "920\n",
      "921\n",
      "922\n",
      "923\n",
      "924\n",
      "925\n",
      "926\n",
      "927\n",
      "928\n",
      "929\n",
      "930\n",
      "931\n",
      "932\n",
      "933\n",
      "934\n",
      "935\n",
      "936\n",
      "937\n",
      "938\n",
      "939\n",
      "940\n",
      "941\n",
      "942\n",
      "943\n",
      "944\n",
      "945\n",
      "946\n",
      "947\n",
      "948\n",
      "949\n",
      "950\n",
      "951\n",
      "952\n",
      "953\n",
      "954\n",
      "955\n",
      "956\n",
      "957\n",
      "958\n",
      "959\n",
      "960\n",
      "961\n",
      "962\n",
      "963\n",
      "964\n",
      "965\n",
      "966\n",
      "967\n",
      "968\n",
      "969\n",
      "970\n",
      "971\n",
      "972\n",
      "973\n",
      "974\n",
      "975\n",
      "976\n",
      "977\n",
      "978\n",
      "979\n",
      "980\n",
      "981\n",
      "982\n",
      "983\n",
      "984\n",
      "985\n",
      "986\n",
      "987\n",
      "988\n",
      "989\n",
      "990\n",
      "991\n",
      "992\n",
      "993\n",
      "994\n",
      "995\n",
      "996\n",
      "997\n",
      "998\n",
      "999\n",
      "1000\n",
      "1001\n",
      "1002\n",
      "1003\n",
      "1004\n",
      "1005\n",
      "1006\n",
      "1007\n",
      "1008\n",
      "1009\n",
      "1010\n",
      "1011\n",
      "1012\n",
      "1013\n",
      "1014\n",
      "1015\n",
      "1016\n",
      "1017\n",
      "1018\n",
      "1019\n",
      "1020\n",
      "1021\n",
      "1022\n",
      "1023\n"
     ]
    }
   ],
   "source": [
    "for seat in liste_id:\n",
    "    if seat in list(df.seat_id.values):\n",
    "        pass\n",
    "    else:\n",
    "        print(seat)"
   ]
  },
  {
   "cell_type": "markdown",
   "metadata": {},
   "source": [
    "739 car c'est l'id isolé"
   ]
  },
  {
   "cell_type": "code",
   "execution_count": null,
   "metadata": {},
   "outputs": [],
   "source": []
  }
 ],
 "metadata": {
  "kernelspec": {
   "display_name": "Python 3",
   "language": "python",
   "name": "python3"
  },
  "language_info": {
   "codemirror_mode": {
    "name": "ipython",
    "version": 3
   },
   "file_extension": ".py",
   "mimetype": "text/x-python",
   "name": "python",
   "nbconvert_exporter": "python",
   "pygments_lexer": "ipython3",
   "version": "3.8.3"
  },
  "toc": {
   "base_numbering": 1,
   "nav_menu": {},
   "number_sections": true,
   "sideBar": true,
   "skip_h1_title": false,
   "title_cell": "Table of Contents",
   "title_sidebar": "Contents",
   "toc_cell": false,
   "toc_position": {},
   "toc_section_display": true,
   "toc_window_display": false
  },
  "varInspector": {
   "cols": {
    "lenName": 16,
    "lenType": 16,
    "lenVar": 40
   },
   "kernels_config": {
    "python": {
     "delete_cmd_postfix": "",
     "delete_cmd_prefix": "del ",
     "library": "var_list.py",
     "varRefreshCmd": "print(var_dic_list())"
    },
    "r": {
     "delete_cmd_postfix": ") ",
     "delete_cmd_prefix": "rm(",
     "library": "var_list.r",
     "varRefreshCmd": "cat(var_dic_list()) "
    }
   },
   "types_to_exclude": [
    "module",
    "function",
    "builtin_function_or_method",
    "instance",
    "_Feature"
   ],
   "window_display": false
  }
 },
 "nbformat": 4,
 "nbformat_minor": 4
}
